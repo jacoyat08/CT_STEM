{
 "cells": [
  {
   "cell_type": "code",
   "execution_count": null,
   "metadata": {
    "collapsed": true
   },
   "outputs": [],
   "source": [
    "import numpy as np\n",
    "import pandas as pd\n",
    "import matplotlib\n",
    "import matplotlib.pyplot as plt  "
   ]
  },
  {
   "cell_type": "code",
   "execution_count": null,
   "metadata": {
    "collapsed": true
   },
   "outputs": [],
   "source": [
    "ds = pd.read_csv('')"
   ]
  },
  {
   "cell_type": "code",
   "execution_count": null,
   "metadata": {
    "collapsed": true
   },
   "outputs": [],
   "source": [
    "ds"
   ]
  },
  {
   "cell_type": "code",
   "execution_count": null,
   "metadata": {
    "collapsed": true
   },
   "outputs": [],
   "source": [
    "#complete code to return descriptive table about data set (count, mean, std, etc.)\n",
    "ds.\n"
   ]
  },
  {
   "cell_type": "code",
   "execution_count": null,
   "metadata": {
    "collapsed": true
   },
   "outputs": [],
   "source": [
    "#complete code to plot a histogram of the column of your choosing from the dataset\n",
    "ds.hist(column=\"\",        # Column to plot\n",
    "              figsize=(8,8),         # Plot size\n",
    "              color=\"\",          # Plot color\n",
    "              bins=8 )           # number of bins\n",
    "plt.show()"
   ]
  },
  {
   "cell_type": "code",
   "execution_count": null,
   "metadata": {
    "collapsed": true
   },
   "outputs": [],
   "source": [
    "#complete code to plot a histogram and changing bin count to a number less than 8 \n",
    "#for the column of your choosing from the dataset\n",
    "\n",
    "ds.hist(column=\"\",        # Column to plot\n",
    "              figsize=(8,8),         # Plot size\n",
    "              color=\"green\",          # Plot color\n",
    "              bins= )           # number of bins\n",
    "plt.show()\n"
   ]
  },
  {
   "cell_type": "code",
   "execution_count": null,
   "metadata": {
    "collapsed": true
   },
   "outputs": [],
   "source": [
    "#complete code to plot a histogram and changing bin count to a number grater than 8\n",
    "#for the column of your choosing from the dataset\n",
    "\n",
    "ds.hist(column=\"\",        # Column to plot\n",
    "              figsize=(8,8),         # Plot size\n",
    "              color=\"\",          # Plot color\n",
    "              bins= )           # number of bins\n",
    "plt.show()"
   ]
  }
 ],
 "metadata": {
  "kernelspec": {
   "display_name": "Python 3",
   "language": "python",
   "name": "python3"
  },
  "language_info": {
   "codemirror_mode": {
    "name": "ipython",
    "version": 3
   },
   "file_extension": ".py",
   "mimetype": "text/x-python",
   "name": "python",
   "nbconvert_exporter": "python",
   "pygments_lexer": "ipython3",
   "version": "3.6.1"
  }
 },
 "nbformat": 4,
 "nbformat_minor": 2
}
