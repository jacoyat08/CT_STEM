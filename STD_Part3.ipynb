{
 "cells": [
  {
   "cell_type": "code",
   "execution_count": null,
   "metadata": {
    "collapsed": true
   },
   "outputs": [],
   "source": [
    "import numpy as np\n",
    "import pandas as pd\n",
    "import matplotlib\n",
    "import matplotlib.pyplot as plt \n",
    "import seaborn as sns"
   ]
  },
  {
   "cell_type": "markdown",
   "metadata": {},
   "source": [
    "# Question 1.1 Comparing Different Data Sets"
   ]
  },
  {
   "cell_type": "code",
   "execution_count": null,
   "metadata": {
    "collapsed": true
   },
   "outputs": [],
   "source": [
    "#read in csv file\n",
    "#this will be dataset 1\n",
    "ds1 = pd.read_csv('') "
   ]
  },
  {
   "cell_type": "code",
   "execution_count": null,
   "metadata": {
    "collapsed": true
   },
   "outputs": [],
   "source": [
    "#read in same csv file from different class section \n",
    "#this will be dataset 2\n",
    "ds2 = pd.read_csv('') "
   ]
  },
  {
   "cell_type": "markdown",
   "metadata": {},
   "source": [
    "# Question 1.2 Plot Descriptive Tables"
   ]
  },
  {
   "cell_type": "code",
   "execution_count": null,
   "metadata": {
    "collapsed": true
   },
   "outputs": [],
   "source": [
    "#plot descriptive table for dataset 1\n",
    "ds1. "
   ]
  },
  {
   "cell_type": "code",
   "execution_count": null,
   "metadata": {
    "collapsed": true
   },
   "outputs": [],
   "source": [
    "#plot descriptive table for dataset 2\n",
    "ds2."
   ]
  },
  {
   "cell_type": "markdown",
   "metadata": {},
   "source": [
    "# Question 2.1 Plot Histograms"
   ]
  },
  {
   "cell_type": "code",
   "execution_count": null,
   "metadata": {
    "collapsed": true
   },
   "outputs": [],
   "source": [
    "#complete code to plot histogram for dataset 1\n",
    "ds1.hist(column=\"\",        # Column to plot\n",
    "              figsize=(8,8),         # Plot size\n",
    "              color=\"\",          # Plot color\n",
    "              bins= )           # number of bins\n",
    "plt.show()"
   ]
  },
  {
   "cell_type": "code",
   "execution_count": null,
   "metadata": {
    "collapsed": true
   },
   "outputs": [],
   "source": [
    "#complete code to plot histogram for dataset 2\n",
    "\n",
    "ds2.hist(column=\"\",        # Column to plot\n",
    "              figsize=(8,8),         # Plot size\n",
    "              color=\"\",          # Plot color (choose a different color to represent different data set)\n",
    "              bins=)           # number of bins\n",
    "plt.show()"
   ]
  },
  {
   "cell_type": "markdown",
   "metadata": {},
   "source": [
    "# Question 2.1 Plot Box Plots"
   ]
  },
  {
   "cell_type": "code",
   "execution_count": null,
   "metadata": {
    "collapsed": true
   },
   "outputs": [],
   "source": [
    "#complete code to plot box plots for dataset 1\n",
    "#insert column name for dataset 1 between red qoutation marks\n",
    "sns.boxplot(x=ds1[\"\"], color=\"\") \n",
    "#adjust xlim to best represent your data \n",
    "#both figures must be on the same x-scale  \n",
    "plt.xlim(1.5,4.5)\n",
    "plt.show()\n"
   ]
  },
  {
   "cell_type": "code",
   "execution_count": null,
   "metadata": {
    "collapsed": true
   },
   "outputs": [],
   "source": [
    "#complete code to plot box plots for dataset 2\n",
    "#insert column name for dataset 2 between red qoutation marks\n",
    "  \n",
    "sns.boxplot(x=ds2[\"\"] , color=\"\" ) \n",
    "#adjust xlim to best represent your data \n",
    "#both figures must be on the same x-scale  \n",
    "plt.xlim(1.5,4.5)\n",
    "plt.show()\n"
   ]
  },
  {
   "cell_type": "markdown",
   "metadata": {},
   "source": [
    "# Question 3.1 Remove data from data set"
   ]
  },
  {
   "cell_type": "code",
   "execution_count": null,
   "metadata": {
    "collapsed": true
   },
   "outputs": [],
   "source": [
    "#remove values from dataset 1 \n",
    "#enter the number closest to mean after == symbol \n",
    "indexNames = ds1[ ds1[''] ==  ].index\n",
    "ds1_remove = ds1.drop(indexNames)"
   ]
  },
  {
   "cell_type": "code",
   "execution_count": null,
   "metadata": {
    "collapsed": true
   },
   "outputs": [],
   "source": [
    "# remove values from dataset 2 \n",
    "#enter the number closest to mean after == symbol \n",
    "indexNames = ds2[ ds2[''] ==  ].index\n",
    "ds2_remove = ds2.drop(indexNames)"
   ]
  },
  {
   "cell_type": "markdown",
   "metadata": {},
   "source": [
    "# Question 3.1 Plot Descriptive Tables "
   ]
  },
  {
   "cell_type": "code",
   "execution_count": null,
   "metadata": {
    "collapsed": true
   },
   "outputs": [],
   "source": [
    "#plot descriptive table for remove data from dataset 1\n",
    "ds1_remove. "
   ]
  },
  {
   "cell_type": "code",
   "execution_count": null,
   "metadata": {
    "collapsed": true
   },
   "outputs": [],
   "source": [
    "#plot descriptive table for remove data from dataset 2\n",
    "ds2_remove."
   ]
  },
  {
   "cell_type": "markdown",
   "metadata": {},
   "source": [
    "# Question 3.3 Remove data from data set"
   ]
  },
  {
   "cell_type": "code",
   "execution_count": null,
   "metadata": {
    "collapsed": true
   },
   "outputs": [],
   "source": [
    "#remove values from dataset 1 by\n",
    "#enter the number furthest away from the mean after == symbol \n",
    "indexNames = ds1[ ds1[''] ==  ].index\n",
    "ds1_remove = ds1.drop(indexNames)"
   ]
  },
  {
   "cell_type": "code",
   "execution_count": null,
   "metadata": {
    "collapsed": true
   },
   "outputs": [],
   "source": [
    "# remove values from dataset 2 \n",
    "#enter the number furthest away from the mean after == symbol \n",
    "indexNames = ds2[ ds2[''] ==  ].index\n",
    "ds2_remove = ds2.drop(indexNames)"
   ]
  },
  {
   "cell_type": "markdown",
   "metadata": {},
   "source": [
    "# Question 3.3 Plot Descriptive Tables \n"
   ]
  },
  {
   "cell_type": "code",
   "execution_count": null,
   "metadata": {
    "collapsed": true
   },
   "outputs": [],
   "source": [
    "#plot descriptive table for remove data from dataset 1\n",
    "ds1_remove.() "
   ]
  },
  {
   "cell_type": "code",
   "execution_count": null,
   "metadata": {
    "collapsed": true
   },
   "outputs": [],
   "source": [
    "#plot descriptive table for remove data from dataset 2\n",
    "ds2_remove.() "
   ]
  },
  {
   "cell_type": "markdown",
   "metadata": {},
   "source": [
    "# Challenge - Dotplots\n"
   ]
  },
  {
   "cell_type": "code",
   "execution_count": null,
   "metadata": {
    "collapsed": true
   },
   "outputs": [],
   "source": [
    "#insert column name for data set 1 between qoutation marks \n",
    "data = ds1[''] \n",
    "#change the number \"13\" to the largest number in your data set  \n",
    "bins = np.arange(13)-2 \n",
    "hist, edges = np.histogram(data, bins= bins)\n",
    "y = np.arange(1,hist.max()+1)\n",
    "#change the number \"12\" to the largest number in your data set  \n",
    "x = np.arange(12) \n",
    "X,Y = np.meshgrid(x,y)\n",
    "Y = Y.astype(np.float)\n",
    "Y[Y>hist] = np.nan\n",
    "plt.scatter(X,Y)\n",
    "plt.ylim(0,40)   \n",
    "plt.yticks([])\n",
    "plt.show()"
   ]
  },
  {
   "cell_type": "code",
   "execution_count": null,
   "metadata": {
    "collapsed": true
   },
   "outputs": [],
   "source": [
    "#insert column name for data set 2 between qoutation marks \n",
    "data = ds2[''] \n",
    "#change the number \"13\" to the largest number in your data set   \n",
    "bins = np.arange(13)-2 \n",
    "hist, edges = np.histogram(data, bins= bins)\n",
    "#change the number \"12\" to the largest number in your data set  \n",
    "x = np.arange(12) \n",
    "X,Y = np.meshgrid(x,y)\n",
    "Y = Y.astype(np.float)\n",
    "Y[Y>hist] = np.nan\n",
    "plt.scatter(X,Y)\n",
    "plt.ylim(0,40) \n",
    "plt.yticks([])\n",
    "plt.show()"
   ]
  }
 ],
 "metadata": {
  "kernelspec": {
   "display_name": "Python 3",
   "language": "python",
   "name": "python3"
  },
  "language_info": {
   "codemirror_mode": {
    "name": "ipython",
    "version": 3
   },
   "file_extension": ".py",
   "mimetype": "text/x-python",
   "name": "python",
   "nbconvert_exporter": "python",
   "pygments_lexer": "ipython3",
   "version": "3.6.1"
  }
 },
 "nbformat": 4,
 "nbformat_minor": 2
}
