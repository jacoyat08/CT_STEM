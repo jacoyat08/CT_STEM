{
 "cells": [
  {
   "cell_type": "code",
   "execution_count": null,
   "metadata": {
    "collapsed": true
   },
   "outputs": [],
   "source": [
    "import numpy as np\n",
    "import pandas as pd\n",
    "import matplotlib\n",
    "import matplotlib.pyplot as plt \n",
    "import seaborn as sns"
   ]
  },
  {
   "cell_type": "markdown",
   "metadata": {},
   "source": [
    "# Question 1.1 Comparing Different Data Sets"
   ]
  },
  {
   "cell_type": "code",
   "execution_count": null,
   "metadata": {
    "collapsed": true
   },
   "outputs": [],
   "source": [
    "ds1 = pd.read_csv('') #read in your csv file "
   ]
  },
  {
   "cell_type": "code",
   "execution_count": null,
   "metadata": {
    "collapsed": true
   },
   "outputs": [],
   "source": [
    "ds2 = pd.read_csv('') #read in same csv file from different class section "
   ]
  },
  {
   "cell_type": "markdown",
   "metadata": {},
   "source": [
    "# Question 1.2 Plot Descriptive Tables"
   ]
  },
  {
   "cell_type": "code",
   "execution_count": null,
   "metadata": {
    "collapsed": true
   },
   "outputs": [],
   "source": [
    "ds1.#complete to plot table "
   ]
  },
  {
   "cell_type": "code",
   "execution_count": null,
   "metadata": {
    "collapsed": true
   },
   "outputs": [],
   "source": [
    "ds2.#complete to plot table "
   ]
  },
  {
   "cell_type": "markdown",
   "metadata": {},
   "source": [
    "# Question 2.1 Plot Histograms"
   ]
  },
  {
   "cell_type": "code",
   "execution_count": null,
   "metadata": {
    "collapsed": true
   },
   "outputs": [],
   "source": [
    "#complete to plot histogram\n",
    "ds1.hist(column=\"\",        # Column to plot\n",
    "              figsize=(8,8),         # Plot size\n",
    "              color=\"\",          # Plot color\n",
    "              bins= )           # number of bins\n",
    "plt.show()"
   ]
  },
  {
   "cell_type": "code",
   "execution_count": null,
   "metadata": {
    "collapsed": true
   },
   "outputs": [],
   "source": [
    "#complete to plot histogram\n",
    "\n",
    "ds2.hist(column=\"\",        # Column to plot\n",
    "              figsize=(8,8),         # Plot size\n",
    "              color=\"\",          # Plot color (choose a different color to represent different data set)\n",
    "              bins=)           # number of bins\n",
    "plt.show()"
   ]
  },
  {
   "cell_type": "markdown",
   "metadata": {},
   "source": [
    "# Question 2.1 Plot Box Plots"
   ]
  },
  {
   "cell_type": "code",
   "execution_count": null,
   "metadata": {
    "collapsed": true
   },
   "outputs": [],
   "source": [
    "sns.boxplot(x=ds1[\"\"] ) #insert column name for data set 1 between red qoutation marks\n",
    "plt.xlim(1.5,4.5) #adjust xlim to best represent your data, both figures must be on the same x-scale  \n",
    "plt.show()\n"
   ]
  },
  {
   "cell_type": "code",
   "execution_count": null,
   "metadata": {
    "collapsed": true
   },
   "outputs": [],
   "source": [
    "sns.boxplot(x=ds2[\"\"] , color=\"orange\" ) #insert column name for data set 1 between qoutation marks\n",
    "plt.xlim(1.5,4.5) #adjust xlim to best represent your data, both figures must be on the same x-scale  \n",
    "plt.show()\n"
   ]
  },
  {
   "cell_type": "markdown",
   "metadata": {},
   "source": [
    "# Question 3.1 Remove data from data set"
   ]
  },
  {
   "cell_type": "code",
   "execution_count": null,
   "metadata": {
    "collapsed": true
   },
   "outputs": [],
   "source": [
    "# remove values from dataset 1 by entering the number closest to mean after == symbol \n",
    "indexNames = ds1[ ds1[''] ==  ].index\n",
    "# Delete these row indexes from dataFrame\n",
    "ds1_remove = ds1.drop(indexNames)"
   ]
  },
  {
   "cell_type": "code",
   "execution_count": null,
   "metadata": {
    "collapsed": true
   },
   "outputs": [],
   "source": [
    "# remove values from dataset 2 by entering the number closest to mean after == symbol \n",
    "indexNames = ds2[ ds2[''] ==  ].index\n",
    "# Delete these row indexes from dataFrame\n",
    "ds2_remove = ds2.drop(indexNames)"
   ]
  },
  {
   "cell_type": "markdown",
   "metadata": {},
   "source": [
    "# Question 3.1 Plot Descriptive Tables "
   ]
  },
  {
   "cell_type": "code",
   "execution_count": null,
   "metadata": {
    "collapsed": true
   },
   "outputs": [],
   "source": [
    "ds1_remove.() #complete to plot table "
   ]
  },
  {
   "cell_type": "code",
   "execution_count": null,
   "metadata": {
    "collapsed": true
   },
   "outputs": [],
   "source": [
    "ds2_remove.() #complete to plot table "
   ]
  },
  {
   "cell_type": "markdown",
   "metadata": {},
   "source": [
    "# Question 3.3 Remove data from data set"
   ]
  },
  {
   "cell_type": "code",
   "execution_count": null,
   "metadata": {
    "collapsed": true
   },
   "outputs": [],
   "source": [
    "# remove values from dataset 1 by entering the number furthest away from the mean after == symbol \n",
    "indexNames = ds1[ ds1[''] ==  ].index\n",
    "# Delete these row indexes from dataFrame\n",
    "ds1_remove = ds1.drop(indexNames)"
   ]
  },
  {
   "cell_type": "code",
   "execution_count": null,
   "metadata": {
    "collapsed": true
   },
   "outputs": [],
   "source": [
    "# remove values from dataset 2 by entering the number furthest away from the mean after == symbol \n",
    "indexNames = ds2[ ds2[''] ==  ].index\n",
    "# Delete these row indexes from dataFrame\n",
    "ds2_remove = ds2.drop(indexNames)"
   ]
  },
  {
   "cell_type": "markdown",
   "metadata": {},
   "source": [
    "# Question 3.3 Plot Descriptive Tables \n"
   ]
  },
  {
   "cell_type": "code",
   "execution_count": null,
   "metadata": {
    "collapsed": true
   },
   "outputs": [],
   "source": [
    "ds1_remove.() #complete to plot table "
   ]
  },
  {
   "cell_type": "code",
   "execution_count": null,
   "metadata": {
    "collapsed": true
   },
   "outputs": [],
   "source": [
    "ds2_remove.() #complete to plot table "
   ]
  },
  {
   "cell_type": "markdown",
   "metadata": {},
   "source": [
    "# Challenge - Dotplots\n"
   ]
  },
  {
   "cell_type": "code",
   "execution_count": null,
   "metadata": {
    "collapsed": true
   },
   "outputs": [],
   "source": [
    "data = ds1[''] #insert column name for data set 1 between qoutation marks \n",
    "bins = np.arange(13)-2 #change the number \"13\" to the largest number in your data set  \n",
    "hist, edges = np.histogram(data, bins= bins)\n",
    "y = np.arange(1,hist.max()+1)\n",
    "x = np.arange(12) #change the number \"12\" to the largest number in your data set  \n",
    "X,Y = np.meshgrid(x,y)\n",
    "Y = Y.astype(np.float)\n",
    "Y[Y>hist] = np.nan\n",
    "plt.scatter(X,Y)\n",
    "plt.ylim(0,40)   \n",
    "plt.yticks([])\n",
    "plt.show()"
   ]
  },
  {
   "cell_type": "code",
   "execution_count": null,
   "metadata": {
    "collapsed": true
   },
   "outputs": [],
   "source": [
    "data = ds2[''] #insert column name for data set 2 between qoutation marks \n",
    "bins = np.arange(13)-2 #change the number \"13\" to the largest number in your data set   \n",
    "hist, edges = np.histogram(data, bins= bins)\n",
    "x = np.arange(12) #change the number \"12\" to the largest number in your data set  \n",
    "X,Y = np.meshgrid(x,y)\n",
    "Y = Y.astype(np.float)\n",
    "Y[Y>hist] = np.nan\n",
    "plt.scatter(X,Y)\n",
    "plt.ylim(0,40) \n",
    "plt.yticks([])\n",
    "plt.show()"
   ]
  }
 ],
 "metadata": {
  "kernelspec": {
   "display_name": "Python 3",
   "language": "python",
   "name": "python3"
  },
  "language_info": {
   "codemirror_mode": {
    "name": "ipython",
    "version": 3
   },
   "file_extension": ".py",
   "mimetype": "text/x-python",
   "name": "python",
   "nbconvert_exporter": "python",
   "pygments_lexer": "ipython3",
   "version": "3.6.1"
  }
 },
 "nbformat": 4,
 "nbformat_minor": 2
}
